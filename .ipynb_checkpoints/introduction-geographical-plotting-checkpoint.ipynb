{
 "cells": [
  {
   "cell_type": "markdown",
   "id": "05688d1f-5979-4316-82d8-a1d9ee331476",
   "metadata": {},
   "source": [
    "<h1>Introduction to Geographical Plotting</h1>\n",
    "<li>Geographical plotting is usually challenging to due the various formats the data can come in</li>\n",
    "<li>We will focus on using <strong>plotly</strong> for plotting</li>\n",
    "<li>Matplotlib also has <strong>basemap</strong> extension</li>"
   ]
  }
 ],
 "metadata": {
  "kernelspec": {
   "display_name": "Python 3 (ipykernel)",
   "language": "python",
   "name": "python3"
  },
  "language_info": {
   "codemirror_mode": {
    "name": "ipython",
    "version": 3
   },
   "file_extension": ".py",
   "mimetype": "text/x-python",
   "name": "python",
   "nbconvert_exporter": "python",
   "pygments_lexer": "ipython3",
   "version": "3.11.7"
  }
 },
 "nbformat": 4,
 "nbformat_minor": 5
}
